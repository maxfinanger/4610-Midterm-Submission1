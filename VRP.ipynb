{
 "cells": [
  {
   "cell_type": "code",
   "execution_count": 1,
   "id": "6d461119",
   "metadata": {
    "vscode": {
     "languageId": "plaintext"
    }
   },
   "outputs": [],
   "source": [
    "import random\n",
    "\n",
    "locations = [(1, 5), (2, 3), (4, 8), (6, 1), (7, 4), (8, 2)]\n",
    "cars = 2 #amount of required subsets\n",
    "generations = 5\n",
    "depot = (0, 0)\n",
    "population_size = 10\n"
   ]
  },
  {
   "cell_type": "code",
   "execution_count": 8,
   "id": "164cb9c7",
   "metadata": {
    "vscode": {
     "languageId": "plaintext"
    }
   },
   "outputs": [
    {
     "name": "stdout",
     "output_type": "stream",
     "text": [
      "\n",
      "Generation 0:\n"
     ]
    },
    {
     "ename": "TypeError",
     "evalue": "list indices must be integers or slices, not list",
     "output_type": "error",
     "traceback": [
      "\u001b[31m---------------------------------------------------------------------------\u001b[39m",
      "\u001b[31mTypeError\u001b[39m                                 Traceback (most recent call last)",
      "\u001b[36mCell\u001b[39m\u001b[36m \u001b[39m\u001b[32mIn[8]\u001b[39m\u001b[32m, line 129\u001b[39m\n\u001b[32m    126\u001b[39m         \u001b[38;5;28mprint\u001b[39m(\u001b[33mf\u001b[39m\u001b[33m\"\u001b[39m\u001b[33mIndividual \u001b[39m\u001b[38;5;132;01m{\u001b[39;00mi\u001b[38;5;132;01m}\u001b[39;00m\u001b[33m: \u001b[39m\u001b[38;5;132;01m{\u001b[39;00mvisualize_individual(ind,\u001b[38;5;250m \u001b[39mfitness(ind))\u001b[38;5;132;01m}\u001b[39;00m\u001b[33m\"\u001b[39m)\n\u001b[32m    128\u001b[39m \u001b[38;5;28;01mif\u001b[39;00m \u001b[34m__name__\u001b[39m == \u001b[33m\"\u001b[39m\u001b[33m__main__\u001b[39m\u001b[33m\"\u001b[39m:\n\u001b[32m--> \u001b[39m\u001b[32m129\u001b[39m     \u001b[43mgenetic_algorithm\u001b[49m\u001b[43m(\u001b[49m\u001b[43m)\u001b[49m\n",
      "\u001b[36mCell\u001b[39m\u001b[36m \u001b[39m\u001b[32mIn[8]\u001b[39m\u001b[32m, line 102\u001b[39m, in \u001b[36mgenetic_algorithm\u001b[39m\u001b[34m()\u001b[39m\n\u001b[32m    100\u001b[39m \u001b[38;5;28mprint\u001b[39m(\u001b[33mf\u001b[39m\u001b[33m\"\u001b[39m\u001b[38;5;130;01m\\n\u001b[39;00m\u001b[33mGeneration \u001b[39m\u001b[38;5;132;01m{\u001b[39;00mgeneration\u001b[38;5;132;01m}\u001b[39;00m\u001b[33m:\u001b[39m\u001b[33m\"\u001b[39m)\n\u001b[32m    101\u001b[39m \u001b[38;5;28;01mfor\u001b[39;00m i, ind \u001b[38;5;129;01min\u001b[39;00m \u001b[38;5;28menumerate\u001b[39m(population):\n\u001b[32m--> \u001b[39m\u001b[32m102\u001b[39m     \u001b[38;5;28mprint\u001b[39m(\u001b[33mf\u001b[39m\u001b[33m\"\u001b[39m\u001b[33mIndividual \u001b[39m\u001b[38;5;132;01m{\u001b[39;00mi\u001b[38;5;132;01m}\u001b[39;00m\u001b[33m: \u001b[39m\u001b[38;5;132;01m{\u001b[39;00mvisualize_individual(ind,\u001b[38;5;250m \u001b[39m\u001b[43mfitness\u001b[49m\u001b[43m(\u001b[49m\u001b[43mind\u001b[49m\u001b[43m)\u001b[49m)\u001b[38;5;132;01m}\u001b[39;00m\u001b[33m\"\u001b[39m)\n\u001b[32m    104\u001b[39m new_population = []\n\u001b[32m    106\u001b[39m \u001b[38;5;28mprint\u001b[39m(\u001b[33m\"\u001b[39m\u001b[38;5;130;01m\\n\u001b[39;00m\u001b[33mCrossover and Mutation:\u001b[39m\u001b[33m\"\u001b[39m)\n",
      "\u001b[36mCell\u001b[39m\u001b[36m \u001b[39m\u001b[32mIn[8]\u001b[39m\u001b[32m, line 31\u001b[39m, in \u001b[36mfitness\u001b[39m\u001b[34m(individual)\u001b[39m\n\u001b[32m     18\u001b[39m \u001b[38;5;28;01mdef\u001b[39;00m\u001b[38;5;250m \u001b[39m\u001b[34mfitness\u001b[39m(individual):\n\u001b[32m     19\u001b[39m \u001b[38;5;250m    \u001b[39m\u001b[33;03m\"\"\"\u001b[39;00m\n\u001b[32m     20\u001b[39m \u001b[33;03m    Calculates the fitness of an individual.\u001b[39;00m\n\u001b[32m     21\u001b[39m \n\u001b[32m   (...)\u001b[39m\u001b[32m     29\u001b[39m \u001b[33;03m    float: The inverse of the total distance of the tour.\u001b[39;00m\n\u001b[32m     30\u001b[39m \u001b[33;03m    \"\"\"\u001b[39;00m\n\u001b[32m---> \u001b[39m\u001b[32m31\u001b[39m     total_distance = \u001b[38;5;28;43msum\u001b[39;49m\u001b[43m(\u001b[49m\n\u001b[32m     32\u001b[39m \u001b[43m        \u001b[49m\u001b[43m(\u001b[49m\u001b[43m(\u001b[49m\u001b[43mlocations\u001b[49m\u001b[43m[\u001b[49m\u001b[43mindividual\u001b[49m\u001b[43m[\u001b[49m\u001b[43mi\u001b[49m\u001b[43m]\u001b[49m\u001b[43m]\u001b[49m\u001b[43m[\u001b[49m\u001b[32;43m0\u001b[39;49m\u001b[43m]\u001b[49m\u001b[43m \u001b[49m\u001b[43m-\u001b[49m\u001b[43m \u001b[49m\u001b[43mlocations\u001b[49m\u001b[43m[\u001b[49m\u001b[43mindividual\u001b[49m\u001b[43m[\u001b[49m\u001b[43mi\u001b[49m\u001b[43m-\u001b[49m\u001b[32;43m1\u001b[39;49m\u001b[43m]\u001b[49m\u001b[43m]\u001b[49m\u001b[43m[\u001b[49m\u001b[32;43m0\u001b[39;49m\u001b[43m]\u001b[49m\u001b[43m)\u001b[49m\u001b[43m*\u001b[49m\u001b[43m*\u001b[49m\u001b[32;43m2\u001b[39;49m\u001b[43m \u001b[49m\u001b[43m+\u001b[49m\u001b[43m \u001b[49m\n\u001b[32m     33\u001b[39m \u001b[43m         \u001b[49m\u001b[43m(\u001b[49m\u001b[43mlocations\u001b[49m\u001b[43m[\u001b[49m\u001b[43mindividual\u001b[49m\u001b[43m[\u001b[49m\u001b[43mi\u001b[49m\u001b[43m]\u001b[49m\u001b[43m]\u001b[49m\u001b[43m[\u001b[49m\u001b[32;43m1\u001b[39;49m\u001b[43m]\u001b[49m\u001b[43m \u001b[49m\u001b[43m-\u001b[49m\u001b[43m \u001b[49m\u001b[43mlocations\u001b[49m\u001b[43m[\u001b[49m\u001b[43mindividual\u001b[49m\u001b[43m[\u001b[49m\u001b[43mi\u001b[49m\u001b[43m-\u001b[49m\u001b[32;43m1\u001b[39;49m\u001b[43m]\u001b[49m\u001b[43m]\u001b[49m\u001b[43m[\u001b[49m\u001b[32;43m1\u001b[39;49m\u001b[43m]\u001b[49m\u001b[43m)\u001b[49m\u001b[43m*\u001b[49m\u001b[43m*\u001b[49m\u001b[32;43m2\u001b[39;49m\u001b[43m)\u001b[49m\u001b[43m*\u001b[49m\u001b[43m*\u001b[49m\u001b[32;43m0.5\u001b[39;49m\n\u001b[32m     34\u001b[39m \u001b[43m        \u001b[49m\u001b[38;5;28;43;01mfor\u001b[39;49;00m\u001b[43m \u001b[49m\u001b[43mi\u001b[49m\u001b[43m \u001b[49m\u001b[38;5;129;43;01min\u001b[39;49;00m\u001b[43m \u001b[49m\u001b[38;5;28;43mrange\u001b[39;49m\u001b[43m(\u001b[49m\u001b[38;5;28;43mlen\u001b[39;49m\u001b[43m(\u001b[49m\u001b[43mindividual\u001b[49m\u001b[43m)\u001b[49m\u001b[43m)\u001b[49m\n\u001b[32m     35\u001b[39m \u001b[43m    \u001b[49m\u001b[43m)\u001b[49m\n\u001b[32m     36\u001b[39m     \u001b[38;5;28;01mreturn\u001b[39;00m \u001b[32m1\u001b[39m / total_distance\n",
      "\u001b[36mCell\u001b[39m\u001b[36m \u001b[39m\u001b[32mIn[8]\u001b[39m\u001b[32m, line 32\u001b[39m, in \u001b[36m<genexpr>\u001b[39m\u001b[34m(.0)\u001b[39m\n\u001b[32m     18\u001b[39m \u001b[38;5;28;01mdef\u001b[39;00m\u001b[38;5;250m \u001b[39m\u001b[34mfitness\u001b[39m(individual):\n\u001b[32m     19\u001b[39m \u001b[38;5;250m    \u001b[39m\u001b[33;03m\"\"\"\u001b[39;00m\n\u001b[32m     20\u001b[39m \u001b[33;03m    Calculates the fitness of an individual.\u001b[39;00m\n\u001b[32m     21\u001b[39m \n\u001b[32m   (...)\u001b[39m\u001b[32m     29\u001b[39m \u001b[33;03m    float: The inverse of the total distance of the tour.\u001b[39;00m\n\u001b[32m     30\u001b[39m \u001b[33;03m    \"\"\"\u001b[39;00m\n\u001b[32m     31\u001b[39m     total_distance = \u001b[38;5;28msum\u001b[39m(\n\u001b[32m---> \u001b[39m\u001b[32m32\u001b[39m         ((\u001b[43mlocations\u001b[49m\u001b[43m[\u001b[49m\u001b[43mindividual\u001b[49m\u001b[43m[\u001b[49m\u001b[43mi\u001b[49m\u001b[43m]\u001b[49m\u001b[43m]\u001b[49m[\u001b[32m0\u001b[39m] - locations[individual[i-\u001b[32m1\u001b[39m]][\u001b[32m0\u001b[39m])**\u001b[32m2\u001b[39m + \n\u001b[32m     33\u001b[39m          (locations[individual[i]][\u001b[32m1\u001b[39m] - locations[individual[i-\u001b[32m1\u001b[39m]][\u001b[32m1\u001b[39m])**\u001b[32m2\u001b[39m)**\u001b[32m0.5\u001b[39m\n\u001b[32m     34\u001b[39m         \u001b[38;5;28;01mfor\u001b[39;00m i \u001b[38;5;129;01min\u001b[39;00m \u001b[38;5;28mrange\u001b[39m(\u001b[38;5;28mlen\u001b[39m(individual))\n\u001b[32m     35\u001b[39m     )\n\u001b[32m     36\u001b[39m     \u001b[38;5;28;01mreturn\u001b[39;00m \u001b[32m1\u001b[39m / total_distance\n",
      "\u001b[31mTypeError\u001b[39m: list indices must be integers or slices, not list"
     ]
    }
   ],
   "source": [
    "# Problem: Traveling Salesman Problem\n",
    "    \n",
    "\n",
    "def create_individual(n_cars):\n",
    "    \"\"\"\n",
    "    Creates a random individual for the Traveling Salesman Problem.\n",
    "    \n",
    "    Returns:\n",
    "    list: A permutation of city indices representing a tour.\n",
    "    \"\"\"\n",
    "    def split(a, n):\n",
    "        k, m = divmod(len(a), n)\n",
    "        return (a[i*k+min(i, m):(i+1)*k+min(i+1, m)] for i in range(n))\n",
    "\n",
    "    \n",
    "    return list(split(random.sample(range(len(locations)), len(locations)), n_cars))\n",
    "\n",
    "def fitness(individual):\n",
    "    \"\"\"\n",
    "    Calculates the fitness of an individual.\n",
    "    \n",
    "    The fitness is the inverse of the total distance of the tour.\n",
    "    Shorter tours have higher fitness values.\n",
    "    \n",
    "    Args:\n",
    "    individual (list): A permutation of city indices representing a tour.\n",
    "    \n",
    "    Returns:\n",
    "    float: The inverse of the total distance of the tour.\n",
    "    \"\"\"\n",
    "    total_distance = sum(\n",
    "        ((locations[individual[i]][0] - locations[individual[i-1]][0])**2 + \n",
    "         (locations[individual[i]][1] - locations[individual[i-1]][1])**2)**0.5\n",
    "        for i in range(len(individual))\n",
    "    )\n",
    "    return 1 / total_distance\n",
    "\n",
    "def crossover(parent1, parent2):\n",
    "    \"\"\"\n",
    "    Performs Order Crossover (OX) between two parents.\n",
    "    \n",
    "    Args:\n",
    "    parent1 (list): First parent's tour.\n",
    "    parent2 (list): Second parent's tour.\n",
    "    \n",
    "    Returns:\n",
    "    tuple: A tuple containing:\n",
    "           - The child resulting from the crossover (list)\n",
    "           - The start and end indices of the crossover section (tuple)\n",
    "    \"\"\"\n",
    "    start, end = sorted(random.sample(range(len(parent1)), 2))\n",
    "    child = [-1] * len(parent1)\n",
    "    child[start:end] = parent1[start:end]\n",
    "    pointer = end\n",
    "    for location in parent2:\n",
    "        if location not in child:\n",
    "            child[pointer] = location\n",
    "            pointer = (pointer + 1) % len(child)\n",
    "    return child, (start, end)\n",
    "\n",
    "def mutate(individual):\n",
    "    \"\"\"\n",
    "    Mutates an individual by swapping two cities.\n",
    "    \n",
    "    Args:\n",
    "    individual (list): The tour to mutate.\n",
    "    \n",
    "    Returns:\n",
    "    list: The mutated tour.\n",
    "    \"\"\"\n",
    "    if random.random() < 0.1:  # 10% mutation rate for demonstration\n",
    "        i, j = random.sample(range(len(individual)), 2)\n",
    "        individual[i], individual[j] = individual[j], individual[i]\n",
    "    return individual\n",
    "\n",
    "def visualize_individual(individual, fitness_value):\n",
    "    \"\"\"\n",
    "    Creates a string representation of an individual.\n",
    "    \n",
    "    Args:\n",
    "    individual (list): A tour represented as a list of city indices.\n",
    "    fitness_value (float): The fitness value of the individual.\n",
    "    \n",
    "    Returns:\n",
    "    str: A string representation of the tour and its fitness.\n",
    "    \"\"\"\n",
    "    route = \" -> \".join(map(str, individual))\n",
    "    return f\"{route} Fitness: {fitness_value:.6f}\"\n",
    "\n",
    "def genetic_algorithm():\n",
    "    \"\"\"\n",
    "    Runs the genetic algorithm for the Traveling Salesman Problem.\n",
    "    \n",
    "    This function initializes a population, evolves it over several generations,\n",
    "    and prints the state of the population at each step.\n",
    "    \"\"\"\n",
    "    population = [create_individual(cars) for _ in range(population_size)]\n",
    "    \n",
    "    for generation in range(generations):\n",
    "        print(f\"\\nGeneration {generation}:\")\n",
    "        for i, ind in enumerate(population):\n",
    "            print(f\"Individual {i}: {visualize_individual(ind, fitness(ind))}\")\n",
    "        \n",
    "        new_population = []\n",
    "        \n",
    "        print(\"\\nCrossover and Mutation:\")\n",
    "        for i in range(0, population_size, 2):\n",
    "            parent1, parent2 = random.sample(population, 2)\n",
    "            child1, (start, end) = crossover(parent1, parent2)\n",
    "            child2, _ = crossover(parent2, parent1)\n",
    "            \n",
    "            print(f\"\\nParent 1: {visualize_individual(parent1, fitness(parent1))}\")\n",
    "            print(f\"Parent 2: {visualize_individual(parent2, fitness(parent2))}\")\n",
    "            print(f\"Crossover range: {start} to {end}\")\n",
    "            print(f\"Child 1:  {visualize_individual(child1, fitness(child1))}\")\n",
    "            \n",
    "            mutated_child1 = mutate(child1)\n",
    "            print(f\"Mutated: {visualize_individual(mutated_child1, fitness(mutated_child1))}\")\n",
    "            \n",
    "            new_population.extend([mutated_child1, mutate(child2)])\n",
    "        \n",
    "        population = new_population\n",
    "    \n",
    "    print(\"\\nFinal Population:\")\n",
    "    for i, ind in enumerate(population):\n",
    "        print(f\"Individual {i}: {visualize_individual(ind, fitness(ind))}\")\n",
    "\n",
    "if __name__ == \"__main__\":\n",
    "    genetic_algorithm()"
   ]
  },
  {
   "cell_type": "code",
   "execution_count": null,
   "id": "602b9857",
   "metadata": {
    "vscode": {
     "languageId": "plaintext"
    }
   },
   "outputs": [],
   "source": [
    "create_"
   ]
  }
 ],
 "metadata": {
  "kernelspec": {
   "display_name": "Python 3 (ipykernel)",
   "language": "python",
   "name": "python3"
  },
  "language_info": {
   "codemirror_mode": {
    "name": "ipython",
    "version": 3
   },
   "file_extension": ".py",
   "mimetype": "text/x-python",
   "name": "python",
   "nbconvert_exporter": "python",
   "pygments_lexer": "ipython3",
   "version": "3.13.7"
  }
 },
 "nbformat": 4,
 "nbformat_minor": 5
}
