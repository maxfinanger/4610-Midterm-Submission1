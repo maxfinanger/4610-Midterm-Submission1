{
 "cells": [
  {
   "cell_type": "code",
   "execution_count": null,
   "id": "6d461119",
   "metadata": {
    "vscode": {
     "languageId": "plaintext"
    }
   },
   "outputs": [],
   "source": [
    "#Test\n",
    "import random\n",
    "\n",
    "locations = [(1, 5), (2, 3), (4, 8), (6, 1), (7, 4), (8, 2)]\n",
    "cars = 2\n",
    "generations = 5\n",
    "depot = (0, 0)\n",
    "population_size = 10\n",
    "\n",
    "\n"
   ]
  },
  {
   "cell_type": "code",
   "execution_count": null,
   "id": "164cb9c7",
   "metadata": {
    "vscode": {
     "languageId": "plaintext"
    }
   },
   "outputs": [],
   "source": []
  },
  {
   "cell_type": "code",
   "execution_count": null,
   "id": "602b9857",
   "metadata": {
    "vscode": {
     "languageId": "plaintext"
    }
   },
   "outputs": [],
   "source": []
  }
 ],
 "metadata": {
  "language_info": {
   "name": "python"
  }
 },
 "nbformat": 4,
 "nbformat_minor": 5
}
